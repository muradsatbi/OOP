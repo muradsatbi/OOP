{
 "cells": [
  {
   "cell_type": "markdown",
   "id": "d94032de",
   "metadata": {},
   "source": [
    "Задание 1\n",
    "\n",
    "Напишите класс Triangle, который будет иметь 3 поля: a, b, c (стороны треугольника) и n_dots = 3 (количество точек). Поле n_dots объявите на уровне класса, не в конструкторе — чтобы оно было доступно без создания объекта (т.е. работал вызов Triangle.n_dots). Добавьте в класс простой конструктор, принимающий на вход все три стороны и сохраняющий эти стороны в соответсвующие поля класса.\n",
    "\n",
    "Создайте объекты этого класса со следующими названиями: tr_1, tr_2 и любыми значениями длин сторон."
   ]
  },
  {
   "cell_type": "code",
   "execution_count": 1,
   "id": "e95f0248",
   "metadata": {},
   "outputs": [],
   "source": [
    "class Triangle():\n",
    "    a = ''\n",
    "    b = ''\n",
    "    c = ''\n",
    "    n_dots = 3\n",
    "    \n",
    "    def __init__(self, a, b, c):\n",
    "        self.a = a\n",
    "        self.b = b\n",
    "        self.c = c"
   ]
  },
  {
   "cell_type": "code",
   "execution_count": 2,
   "id": "1ffd9de7",
   "metadata": {},
   "outputs": [
    {
     "data": {
      "text/plain": [
       "3"
      ]
     },
     "execution_count": 2,
     "metadata": {},
     "output_type": "execute_result"
    }
   ],
   "source": [
    "Triangle.n_dots"
   ]
  },
  {
   "cell_type": "code",
   "execution_count": 3,
   "id": "6723751a",
   "metadata": {},
   "outputs": [],
   "source": [
    "tr_1 = Triangle(3, 5, 6)\n",
    "tr_2 = Triangle(10, 24, 33)"
   ]
  },
  {
   "cell_type": "markdown",
   "id": "7a52af0e",
   "metadata": {},
   "source": [
    "Задание 2\n",
    "\n",
    "Возьмите класс Triangle из предыдущего задания и добавьте метод area(), возвращающий площадь треугольника. Напомним, что при известных трех сторонах площадь треугольника можно подсчитать по формуле Герона: S= \n",
    "p(p−a)(p−b)(p−c)\n",
    "​\n",
    " , где p= \n",
    "2\n",
    "1\n",
    "​\n",
    " (a+b+c) - полупериметр. Подумайте, как можно организовать код так, чтобы p считалась один раз.\n",
    "\n",
    "Затем поменяйте конструктор: он должен проверять, что выполнено неравенство треугольника - каждая сторона меньше или равна сумме двух других. Если это условие не выполнено, выбрасывайте ValueError с текстом \"triangle inequality does not hold\" (передайте эту строку в конструктор ValueError).\n",
    "\n",
    "Наконец, создайте два объекта данного класса с названиями tr_1 и tr_2 , в которых соблюдается равенство треугольника. Также, сохраните в переменные square_1 и square_2 результаты вызовов методов .area() для объектов tr_1 и tr_2 соответственно."
   ]
  },
  {
   "cell_type": "code",
   "execution_count": 4,
   "id": "010ad981",
   "metadata": {},
   "outputs": [],
   "source": [
    "class Triangle():\n",
    "    a = ''\n",
    "    b = ''\n",
    "    c = ''\n",
    "    n_dots = 3\n",
    "\n",
    "    \n",
    "    def __init__(self, a, b, c):\n",
    "        self.a = a\n",
    "        self.b = b\n",
    "        self.c = c\n",
    "        if self.a + self.b < self.c or self.a + self.c < self.b \\\n",
    "        or self.b + self.c < self.a:\n",
    "            raise ValueError(\"triangle inequality does not hold\")\n",
    "        \n",
    "    def area(self):\n",
    "        p = (self.a + self.b + self.c) / 2\n",
    "        return (p * (p - self.a) * (p - self.b) * (p - self.c)) ** 0.5"
   ]
  },
  {
   "cell_type": "code",
   "execution_count": 5,
   "id": "f2e378f7",
   "metadata": {},
   "outputs": [],
   "source": [
    "tr_1 = Triangle(3, 5, 6)\n",
    "tr_2 = Triangle(10, 24, 33)"
   ]
  },
  {
   "cell_type": "code",
   "execution_count": 6,
   "id": "fff5ff0d",
   "metadata": {},
   "outputs": [],
   "source": [
    "square_1 = tr_1.area()\n",
    "square_2 = tr_2.area()"
   ]
  },
  {
   "cell_type": "code",
   "execution_count": 7,
   "id": "6748cc9a",
   "metadata": {},
   "outputs": [
    {
     "data": {
      "text/plain": [
       "7.483314773547883"
      ]
     },
     "execution_count": 7,
     "metadata": {},
     "output_type": "execute_result"
    }
   ],
   "source": [
    "square_1"
   ]
  },
  {
   "cell_type": "code",
   "execution_count": 8,
   "id": "a0b817eb",
   "metadata": {},
   "outputs": [
    {
     "data": {
      "text/plain": [
       "61.150940303481846"
      ]
     },
     "execution_count": 8,
     "metadata": {},
     "output_type": "execute_result"
    }
   ],
   "source": [
    "square_2"
   ]
  },
  {
   "cell_type": "markdown",
   "id": "2499b317",
   "metadata": {},
   "source": [
    "Задание 3\n",
    "\n",
    "Создайте класс Rectangle (прямоугольник), который будет наследоваться от класса Triangle. Сделайте так, чтобы area(), конструктор и поле n_dots были верными. А именно:\n",
    "\n",
    "Конструктор должен принимать 2 стороны: a, b\n",
    "area() должен считать площадь как произведение смежных сторон: S=ab\n",
    "Неравенство треугольника не нужно проверять.\n",
    "n_dots должен быть объявлен на уровне класса и равняться 4."
   ]
  },
  {
   "cell_type": "code",
   "execution_count": 9,
   "id": "4f39c8bc",
   "metadata": {},
   "outputs": [],
   "source": [
    "class Rectangle(Triangle):\n",
    "    n_dots = 4\n",
    "    \n",
    "    def __init__(self, a, b):\n",
    "        self.a = a\n",
    "        self.b = b\n",
    "    \n",
    "    def area(self):\n",
    "        return self.a * self.b"
   ]
  },
  {
   "cell_type": "markdown",
   "id": "7dbc638f",
   "metadata": {},
   "source": [
    "Задание 4\n",
    "\n",
    "Вы, наверно, заметили, что при наследовании в прошлом задании мы переписали почти всю логику. Это плохо: при наследовании нужно расширять класс, а не переписывать его.\n",
    "\n",
    "Но все же хочется использовать наследование, ведь треугольники и прямоугольники имеют общие свойства: \n",
    "\n",
    "Оба характеризуются количеством точек n_dots.\n",
    "Оба имеют метод area().\n",
    "Оба имеют проверки на валидность данных. В случае прямоугольника это было равенство противоположных сторон, которое мы пропустили благодаря трюку: вместо принятия четырех сторон a, b, c, d на вход мы принимали две и далее держали в уме a=c, b=d. В случае треугольника это было неравенство треугольника.\n",
    "Тут нам поможет создание некой \"базовой фигуры\". Это будет сборник общих свойств, который сам по себе не будет представлять никакую фигуру, но послужит хорошим плацдармом для следующих классов.\n",
    "\n",
    "Напишите класс BaseFigure, который имеет поле класса (т.е. на уровне класса) n_dots = None, метод area() \"без реализации\", метод validate() \"без реализации\". Сделайте так, чтобы методы \"без реализации\" выбрасывали исключение NotImplementedError при их вызове и ничего другого не делали. Создайте также конструктор класса, который не принимает дополнительных аргументов и в реализации только лишь вызывает self.validate()."
   ]
  },
  {
   "cell_type": "code",
   "execution_count": 10,
   "id": "9e009e87",
   "metadata": {},
   "outputs": [],
   "source": [
    "class BaseFigure():\n",
    "    n_dots = None\n",
    "    \n",
    "    def __init__(self):\n",
    "        self.validate()\n",
    "    \n",
    "    def validate(self):\n",
    "        raise NotImplementedError\n",
    "    \n",
    "    def area(self):\n",
    "        raise NotImplementedError"
   ]
  },
  {
   "cell_type": "code",
   "execution_count": 11,
   "id": "204afb46",
   "metadata": {},
   "outputs": [
    {
     "ename": "NotImplementedError",
     "evalue": "",
     "output_type": "error",
     "traceback": [
      "\u001b[1;31m---------------------------------------------------------------------------\u001b[0m",
      "\u001b[1;31mNotImplementedError\u001b[0m                       Traceback (most recent call last)",
      "\u001b[1;32mC:\\Users\\6A02~1\\AppData\\Local\\Temp/ipykernel_13760/3897385135.py\u001b[0m in \u001b[0;36m<module>\u001b[1;34m\u001b[0m\n\u001b[1;32m----> 1\u001b[1;33m \u001b[0mBS\u001b[0m \u001b[1;33m=\u001b[0m \u001b[0mBaseFigure\u001b[0m\u001b[1;33m(\u001b[0m\u001b[1;33m)\u001b[0m\u001b[1;33m\u001b[0m\u001b[1;33m\u001b[0m\u001b[0m\n\u001b[0m",
      "\u001b[1;32mC:\\Users\\6A02~1\\AppData\\Local\\Temp/ipykernel_13760/3824747029.py\u001b[0m in \u001b[0;36m__init__\u001b[1;34m(self)\u001b[0m\n\u001b[0;32m      3\u001b[0m \u001b[1;33m\u001b[0m\u001b[0m\n\u001b[0;32m      4\u001b[0m     \u001b[1;32mdef\u001b[0m \u001b[0m__init__\u001b[0m\u001b[1;33m(\u001b[0m\u001b[0mself\u001b[0m\u001b[1;33m)\u001b[0m\u001b[1;33m:\u001b[0m\u001b[1;33m\u001b[0m\u001b[1;33m\u001b[0m\u001b[0m\n\u001b[1;32m----> 5\u001b[1;33m         \u001b[0mself\u001b[0m\u001b[1;33m.\u001b[0m\u001b[0mvalidate\u001b[0m\u001b[1;33m(\u001b[0m\u001b[1;33m)\u001b[0m\u001b[1;33m\u001b[0m\u001b[1;33m\u001b[0m\u001b[0m\n\u001b[0m\u001b[0;32m      6\u001b[0m \u001b[1;33m\u001b[0m\u001b[0m\n\u001b[0;32m      7\u001b[0m     \u001b[1;32mdef\u001b[0m \u001b[0mvalidate\u001b[0m\u001b[1;33m(\u001b[0m\u001b[0mself\u001b[0m\u001b[1;33m)\u001b[0m\u001b[1;33m:\u001b[0m\u001b[1;33m\u001b[0m\u001b[1;33m\u001b[0m\u001b[0m\n",
      "\u001b[1;32mC:\\Users\\6A02~1\\AppData\\Local\\Temp/ipykernel_13760/3824747029.py\u001b[0m in \u001b[0;36mvalidate\u001b[1;34m(self)\u001b[0m\n\u001b[0;32m      6\u001b[0m \u001b[1;33m\u001b[0m\u001b[0m\n\u001b[0;32m      7\u001b[0m     \u001b[1;32mdef\u001b[0m \u001b[0mvalidate\u001b[0m\u001b[1;33m(\u001b[0m\u001b[0mself\u001b[0m\u001b[1;33m)\u001b[0m\u001b[1;33m:\u001b[0m\u001b[1;33m\u001b[0m\u001b[1;33m\u001b[0m\u001b[0m\n\u001b[1;32m----> 8\u001b[1;33m         \u001b[1;32mraise\u001b[0m \u001b[0mNotImplementedError\u001b[0m\u001b[1;33m\u001b[0m\u001b[1;33m\u001b[0m\u001b[0m\n\u001b[0m\u001b[0;32m      9\u001b[0m \u001b[1;33m\u001b[0m\u001b[0m\n\u001b[0;32m     10\u001b[0m     \u001b[1;32mdef\u001b[0m \u001b[0marea\u001b[0m\u001b[1;33m(\u001b[0m\u001b[0mself\u001b[0m\u001b[1;33m)\u001b[0m\u001b[1;33m:\u001b[0m\u001b[1;33m\u001b[0m\u001b[1;33m\u001b[0m\u001b[0m\n",
      "\u001b[1;31mNotImplementedError\u001b[0m: "
     ]
    }
   ],
   "source": [
    "BS = BaseFigure()"
   ]
  },
  {
   "cell_type": "markdown",
   "id": "36563f42",
   "metadata": {},
   "source": [
    "Задание 6\n",
    "\n",
    "Возьмите классы Triangle и Rectangle из прошлого задания.\n",
    "\n",
    "Переопределите метод area в каждом случае.\n",
    "Переопределите конструктор в каждом случае (число аргументов тоже меняется). Не забудьте в конструкторе дочернего класса вызвать конструктор родительского класса!\n",
    "Переопределите метод validate в каждом случае. Метод validate должен принимать только аргумент self и использовать созданные в конструкторе переменные. Для этого вы можете сначала сохранять в конструкторе входные данные в self.переменная, а затем вызывать конструктор суперкласса. Для Triangle данный метод должен проверять неравенство треугольника и выбрасывать ошибку ValueError(\"triangle inequality does not hold\") либо возвращать значения сторон. Для Rectangle данный метод должен возвращать значения сторон.\n",
    "В итоге вы получите два класса, которые построены по схожему шаблону. Этот общий шаблон был задан в классе BaseFigure. Создайте несколько объектов этих классов и попробуйте вызвать у них .area(), .validate(). Если вы пользуетесь IDE, то увидите интерактивные подсказки: она скажет, что такие методы есть и что эти методы перегружают (overload) методы из родительского класса. При этом вызов методов будет работать коррректно."
   ]
  },
  {
   "cell_type": "code",
   "execution_count": 12,
   "id": "94cc5400",
   "metadata": {},
   "outputs": [],
   "source": [
    "class Triangle(BaseFigure):\n",
    "    n_dots = 3\n",
    "    \n",
    "    def __init__(self, a, b, c):\n",
    "        self.a = a\n",
    "        self.b = b\n",
    "        self.c = c\n",
    "        super().__init__()\n",
    "    \n",
    "    def validate(self):\n",
    "        if self.a + self.b < self.c or self.a + self.c < self.b \\\n",
    "        or self.b + self.c < self.a:\n",
    "            raise ValueError(\"triangle inequality does not hold\")\n",
    "        else:\n",
    "            return self.a, self.b, self.c\n",
    "    \n",
    "    def area(self):\n",
    "        p = (self.a + self.b + self.c) / 2\n",
    "        return (p * (p - self.a) * (p - self.b) * (p - self.c)) ** 0.5"
   ]
  },
  {
   "cell_type": "code",
   "execution_count": 13,
   "id": "6008eac8",
   "metadata": {},
   "outputs": [
    {
     "ename": "ValueError",
     "evalue": "triangle inequality does not hold",
     "output_type": "error",
     "traceback": [
      "\u001b[1;31m---------------------------------------------------------------------------\u001b[0m",
      "\u001b[1;31mValueError\u001b[0m                                Traceback (most recent call last)",
      "\u001b[1;32mC:\\Users\\6A02~1\\AppData\\Local\\Temp/ipykernel_13760/3856795380.py\u001b[0m in \u001b[0;36m<module>\u001b[1;34m\u001b[0m\n\u001b[1;32m----> 1\u001b[1;33m \u001b[0mabc\u001b[0m \u001b[1;33m=\u001b[0m \u001b[0mTriangle\u001b[0m\u001b[1;33m(\u001b[0m\u001b[1;36m3\u001b[0m\u001b[1;33m,\u001b[0m \u001b[1;36m4\u001b[0m\u001b[1;33m,\u001b[0m \u001b[1;36m8\u001b[0m\u001b[1;33m)\u001b[0m\u001b[1;33m\u001b[0m\u001b[1;33m\u001b[0m\u001b[0m\n\u001b[0m",
      "\u001b[1;32mC:\\Users\\6A02~1\\AppData\\Local\\Temp/ipykernel_13760/799015320.py\u001b[0m in \u001b[0;36m__init__\u001b[1;34m(self, a, b, c)\u001b[0m\n\u001b[0;32m      6\u001b[0m         \u001b[0mself\u001b[0m\u001b[1;33m.\u001b[0m\u001b[0mb\u001b[0m \u001b[1;33m=\u001b[0m \u001b[0mb\u001b[0m\u001b[1;33m\u001b[0m\u001b[1;33m\u001b[0m\u001b[0m\n\u001b[0;32m      7\u001b[0m         \u001b[0mself\u001b[0m\u001b[1;33m.\u001b[0m\u001b[0mc\u001b[0m \u001b[1;33m=\u001b[0m \u001b[0mc\u001b[0m\u001b[1;33m\u001b[0m\u001b[1;33m\u001b[0m\u001b[0m\n\u001b[1;32m----> 8\u001b[1;33m         \u001b[0msuper\u001b[0m\u001b[1;33m(\u001b[0m\u001b[1;33m)\u001b[0m\u001b[1;33m.\u001b[0m\u001b[0m__init__\u001b[0m\u001b[1;33m(\u001b[0m\u001b[1;33m)\u001b[0m\u001b[1;33m\u001b[0m\u001b[1;33m\u001b[0m\u001b[0m\n\u001b[0m\u001b[0;32m      9\u001b[0m \u001b[1;33m\u001b[0m\u001b[0m\n\u001b[0;32m     10\u001b[0m     \u001b[1;32mdef\u001b[0m \u001b[0mvalidate\u001b[0m\u001b[1;33m(\u001b[0m\u001b[0mself\u001b[0m\u001b[1;33m)\u001b[0m\u001b[1;33m:\u001b[0m\u001b[1;33m\u001b[0m\u001b[1;33m\u001b[0m\u001b[0m\n",
      "\u001b[1;32mC:\\Users\\6A02~1\\AppData\\Local\\Temp/ipykernel_13760/3824747029.py\u001b[0m in \u001b[0;36m__init__\u001b[1;34m(self)\u001b[0m\n\u001b[0;32m      3\u001b[0m \u001b[1;33m\u001b[0m\u001b[0m\n\u001b[0;32m      4\u001b[0m     \u001b[1;32mdef\u001b[0m \u001b[0m__init__\u001b[0m\u001b[1;33m(\u001b[0m\u001b[0mself\u001b[0m\u001b[1;33m)\u001b[0m\u001b[1;33m:\u001b[0m\u001b[1;33m\u001b[0m\u001b[1;33m\u001b[0m\u001b[0m\n\u001b[1;32m----> 5\u001b[1;33m         \u001b[0mself\u001b[0m\u001b[1;33m.\u001b[0m\u001b[0mvalidate\u001b[0m\u001b[1;33m(\u001b[0m\u001b[1;33m)\u001b[0m\u001b[1;33m\u001b[0m\u001b[1;33m\u001b[0m\u001b[0m\n\u001b[0m\u001b[0;32m      6\u001b[0m \u001b[1;33m\u001b[0m\u001b[0m\n\u001b[0;32m      7\u001b[0m     \u001b[1;32mdef\u001b[0m \u001b[0mvalidate\u001b[0m\u001b[1;33m(\u001b[0m\u001b[0mself\u001b[0m\u001b[1;33m)\u001b[0m\u001b[1;33m:\u001b[0m\u001b[1;33m\u001b[0m\u001b[1;33m\u001b[0m\u001b[0m\n",
      "\u001b[1;32mC:\\Users\\6A02~1\\AppData\\Local\\Temp/ipykernel_13760/799015320.py\u001b[0m in \u001b[0;36mvalidate\u001b[1;34m(self)\u001b[0m\n\u001b[0;32m     11\u001b[0m         \u001b[1;32mif\u001b[0m \u001b[0mself\u001b[0m\u001b[1;33m.\u001b[0m\u001b[0ma\u001b[0m \u001b[1;33m+\u001b[0m \u001b[0mself\u001b[0m\u001b[1;33m.\u001b[0m\u001b[0mb\u001b[0m \u001b[1;33m<\u001b[0m \u001b[0mself\u001b[0m\u001b[1;33m.\u001b[0m\u001b[0mc\u001b[0m \u001b[1;32mor\u001b[0m \u001b[0mself\u001b[0m\u001b[1;33m.\u001b[0m\u001b[0ma\u001b[0m \u001b[1;33m+\u001b[0m \u001b[0mself\u001b[0m\u001b[1;33m.\u001b[0m\u001b[0mc\u001b[0m \u001b[1;33m<\u001b[0m \u001b[0mself\u001b[0m\u001b[1;33m.\u001b[0m\u001b[0mb\u001b[0m\u001b[0;31m \u001b[0m\u001b[0;31m\\\u001b[0m\u001b[1;33m\u001b[0m\u001b[1;33m\u001b[0m\u001b[0m\n\u001b[0;32m     12\u001b[0m         \u001b[1;32mor\u001b[0m \u001b[0mself\u001b[0m\u001b[1;33m.\u001b[0m\u001b[0mb\u001b[0m \u001b[1;33m+\u001b[0m \u001b[0mself\u001b[0m\u001b[1;33m.\u001b[0m\u001b[0mc\u001b[0m \u001b[1;33m<\u001b[0m \u001b[0mself\u001b[0m\u001b[1;33m.\u001b[0m\u001b[0ma\u001b[0m\u001b[1;33m:\u001b[0m\u001b[1;33m\u001b[0m\u001b[1;33m\u001b[0m\u001b[0m\n\u001b[1;32m---> 13\u001b[1;33m             \u001b[1;32mraise\u001b[0m \u001b[0mValueError\u001b[0m\u001b[1;33m(\u001b[0m\u001b[1;34m\"triangle inequality does not hold\"\u001b[0m\u001b[1;33m)\u001b[0m\u001b[1;33m\u001b[0m\u001b[1;33m\u001b[0m\u001b[0m\n\u001b[0m\u001b[0;32m     14\u001b[0m         \u001b[1;32melse\u001b[0m\u001b[1;33m:\u001b[0m\u001b[1;33m\u001b[0m\u001b[1;33m\u001b[0m\u001b[0m\n\u001b[0;32m     15\u001b[0m             \u001b[1;32mreturn\u001b[0m \u001b[0mself\u001b[0m\u001b[1;33m.\u001b[0m\u001b[0ma\u001b[0m\u001b[1;33m,\u001b[0m \u001b[0mself\u001b[0m\u001b[1;33m.\u001b[0m\u001b[0mb\u001b[0m\u001b[1;33m,\u001b[0m \u001b[0mself\u001b[0m\u001b[1;33m.\u001b[0m\u001b[0mc\u001b[0m\u001b[1;33m\u001b[0m\u001b[1;33m\u001b[0m\u001b[0m\n",
      "\u001b[1;31mValueError\u001b[0m: triangle inequality does not hold"
     ]
    }
   ],
   "source": [
    "abc = Triangle(3, 4, 8)"
   ]
  },
  {
   "cell_type": "code",
   "execution_count": 14,
   "id": "67d4ac35",
   "metadata": {},
   "outputs": [
    {
     "ename": "NameError",
     "evalue": "name 'abc' is not defined",
     "output_type": "error",
     "traceback": [
      "\u001b[1;31m---------------------------------------------------------------------------\u001b[0m",
      "\u001b[1;31mNameError\u001b[0m                                 Traceback (most recent call last)",
      "\u001b[1;32mC:\\Users\\6A02~1\\AppData\\Local\\Temp/ipykernel_13760/2312767499.py\u001b[0m in \u001b[0;36m<module>\u001b[1;34m\u001b[0m\n\u001b[1;32m----> 1\u001b[1;33m \u001b[0mabc\u001b[0m\u001b[1;33m.\u001b[0m\u001b[0marea\u001b[0m\u001b[1;33m(\u001b[0m\u001b[1;33m)\u001b[0m\u001b[1;33m\u001b[0m\u001b[1;33m\u001b[0m\u001b[0m\n\u001b[0m",
      "\u001b[1;31mNameError\u001b[0m: name 'abc' is not defined"
     ]
    }
   ],
   "source": [
    "abc.area()"
   ]
  },
  {
   "cell_type": "code",
   "execution_count": 15,
   "id": "01249e7b",
   "metadata": {},
   "outputs": [],
   "source": [
    "class Rectangle(BaseFigure):\n",
    "    n_dots = 4\n",
    "    \n",
    "    def __init__(self, a, b):\n",
    "        self.a = a\n",
    "        self.b = b\n",
    "        super().__init__()\n",
    "    \n",
    "    def validate(self):\n",
    "        return self.a, self.b\n",
    "    \n",
    "    def area(self):\n",
    "        return self.a * self.b"
   ]
  },
  {
   "cell_type": "code",
   "execution_count": 16,
   "id": "5e772196",
   "metadata": {},
   "outputs": [],
   "source": [
    "abcd = Rectangle(4, 7)"
   ]
  },
  {
   "cell_type": "code",
   "execution_count": 17,
   "id": "807c3372",
   "metadata": {},
   "outputs": [
    {
     "data": {
      "text/plain": [
       "28"
      ]
     },
     "execution_count": 17,
     "metadata": {},
     "output_type": "execute_result"
    }
   ],
   "source": [
    "abcd.area()"
   ]
  },
  {
   "cell_type": "markdown",
   "id": "a7f3a789",
   "metadata": {},
   "source": [
    "Задание 7\n",
    "\n",
    "Попробуем собрать совершенно новый класс, используя BaseFigure в качестве шаблона.\n",
    "\n",
    "Напишите класс Circle, в котором в качестве n_dots будет float('inf'), area будет считаться как 3.14 * r^2, а конструктор будет принимать только один аргумент - r. Метод validate не должен принимать никаких аргументов и не должен осуществлять никаких проверок."
   ]
  },
  {
   "cell_type": "code",
   "execution_count": 18,
   "id": "6997ba75",
   "metadata": {},
   "outputs": [],
   "source": [
    "class Circle(BaseFigure):\n",
    "    n_dots = float('inf')\n",
    "    \n",
    "    def __init__(self, r):\n",
    "        self.r = r\n",
    "        super().__init__()\n",
    "    \n",
    "    def validate(self):\n",
    "        pass\n",
    "    \n",
    "    def area(self):\n",
    "        return 3.14 * self.r ** 2"
   ]
  },
  {
   "cell_type": "code",
   "execution_count": 19,
   "id": "3d1b01e5",
   "metadata": {},
   "outputs": [
    {
     "data": {
      "text/plain": [
       "78.5"
      ]
     },
     "execution_count": 19,
     "metadata": {},
     "output_type": "execute_result"
    }
   ],
   "source": [
    "krug = Circle(5)\n",
    "krug.area()"
   ]
  },
  {
   "cell_type": "markdown",
   "id": "da58d6a6",
   "metadata": {},
   "source": [
    "Задание 8\n",
    "\n",
    "Напишите класс Vector, который на вход будет принимать список координат (x \n",
    "1\n",
    "​\n",
    " ,…,x \n",
    "n\n",
    "​\n",
    " ). Положите все координаты вектора в список self.coords.\n",
    "\n",
    "Добейтесь того, чтобы объекты класса Vector можно было складывать через оператор + и получать на выходе тоже объект этого же класса. Например:\n",
    "\n",
    "# Будет работать\n",
    "Vector([1, 2, 3]) + Vector((2, 3, 4)) # даст Vector([3, 5, 7])\n",
    "\n",
    "# НЕ будет работать\n",
    "Vector([1, 2]) + Vector([1, 2, 3])  # нельзя складывать векторы разной длины\n",
    "# Должно возвращать ошибку (сообщение тоже!)\n",
    "# ValueError: left and right lengths differ: 2 != 3"
   ]
  },
  {
   "cell_type": "code",
   "execution_count": 20,
   "id": "c2b6a8ad",
   "metadata": {},
   "outputs": [],
   "source": [
    "class Vector():\n",
    "    \n",
    "    def __init__(self, lst):\n",
    "        self.coords = lst\n",
    "    \n",
    "    def __add__(self, other):\n",
    "        if len(self.coords) != len(other.coords):\n",
    "            raise ValueError(f'left and right lengths differ: ' \n",
    "            f'{len(self.coords)} != {len(other.coords)}')\n",
    "        else:\n",
    "            temp = []\n",
    "            for i in range(len(self.coords)):\n",
    "                temp.append(self.coords[i] + other.coords[i])\n",
    "            return Vector(temp)\n",
    "        \n",
    "    def __str__(self):\n",
    "        return f'{self.coords}'"
   ]
  },
  {
   "cell_type": "code",
   "execution_count": 21,
   "id": "8c2b80c9",
   "metadata": {},
   "outputs": [
    {
     "name": "stdout",
     "output_type": "stream",
     "text": [
      "[3, 5, 7]\n"
     ]
    }
   ],
   "source": [
    "print(Vector([1, 2, 3]) + Vector((2, 3, 4)))"
   ]
  },
  {
   "cell_type": "code",
   "execution_count": 22,
   "id": "2a7adbea",
   "metadata": {},
   "outputs": [
    {
     "ename": "ValueError",
     "evalue": "left and right lengths differ: 2 != 3",
     "output_type": "error",
     "traceback": [
      "\u001b[1;31m---------------------------------------------------------------------------\u001b[0m",
      "\u001b[1;31mValueError\u001b[0m                                Traceback (most recent call last)",
      "\u001b[1;32mC:\\Users\\6A02~1\\AppData\\Local\\Temp/ipykernel_13760/3222591718.py\u001b[0m in \u001b[0;36m<module>\u001b[1;34m\u001b[0m\n\u001b[1;32m----> 1\u001b[1;33m \u001b[0mVector\u001b[0m\u001b[1;33m(\u001b[0m\u001b[1;33m[\u001b[0m\u001b[1;36m1\u001b[0m\u001b[1;33m,\u001b[0m \u001b[1;36m2\u001b[0m\u001b[1;33m]\u001b[0m\u001b[1;33m)\u001b[0m \u001b[1;33m+\u001b[0m \u001b[0mVector\u001b[0m\u001b[1;33m(\u001b[0m\u001b[1;33m[\u001b[0m\u001b[1;36m1\u001b[0m\u001b[1;33m,\u001b[0m \u001b[1;36m2\u001b[0m\u001b[1;33m,\u001b[0m \u001b[1;36m3\u001b[0m\u001b[1;33m]\u001b[0m\u001b[1;33m)\u001b[0m\u001b[1;33m\u001b[0m\u001b[1;33m\u001b[0m\u001b[0m\n\u001b[0m",
      "\u001b[1;32mC:\\Users\\6A02~1\\AppData\\Local\\Temp/ipykernel_13760/4239445134.py\u001b[0m in \u001b[0;36m__add__\u001b[1;34m(self, other)\u001b[0m\n\u001b[0;32m      6\u001b[0m     \u001b[1;32mdef\u001b[0m \u001b[0m__add__\u001b[0m\u001b[1;33m(\u001b[0m\u001b[0mself\u001b[0m\u001b[1;33m,\u001b[0m \u001b[0mother\u001b[0m\u001b[1;33m)\u001b[0m\u001b[1;33m:\u001b[0m\u001b[1;33m\u001b[0m\u001b[1;33m\u001b[0m\u001b[0m\n\u001b[0;32m      7\u001b[0m         \u001b[1;32mif\u001b[0m \u001b[0mlen\u001b[0m\u001b[1;33m(\u001b[0m\u001b[0mself\u001b[0m\u001b[1;33m.\u001b[0m\u001b[0mcoords\u001b[0m\u001b[1;33m)\u001b[0m \u001b[1;33m!=\u001b[0m \u001b[0mlen\u001b[0m\u001b[1;33m(\u001b[0m\u001b[0mother\u001b[0m\u001b[1;33m.\u001b[0m\u001b[0mcoords\u001b[0m\u001b[1;33m)\u001b[0m\u001b[1;33m:\u001b[0m\u001b[1;33m\u001b[0m\u001b[1;33m\u001b[0m\u001b[0m\n\u001b[1;32m----> 8\u001b[1;33m             raise ValueError(f'left and right lengths differ: ' \n\u001b[0m\u001b[0;32m      9\u001b[0m             f'{len(self.coords)} != {len(other.coords)}')\n\u001b[0;32m     10\u001b[0m         \u001b[1;32melse\u001b[0m\u001b[1;33m:\u001b[0m\u001b[1;33m\u001b[0m\u001b[1;33m\u001b[0m\u001b[0m\n",
      "\u001b[1;31mValueError\u001b[0m: left and right lengths differ: 2 != 3"
     ]
    }
   ],
   "source": [
    "Vector([1, 2]) + Vector([1, 2, 3])"
   ]
  },
  {
   "cell_type": "markdown",
   "id": "0e570398",
   "metadata": {},
   "source": [
    "Задание 9\n",
    "\n",
    "Добавим могущества нашему вектору.\n",
    "\n",
    "Добавьте методу красивый вывод при передаче его в print(...). Пример:\n",
    "\n",
    "print(Vector([1, 2, 3])\n",
    "# Напечатает: \"[1, 2, 3]\" без кавычек\n",
    "\n",
    "vec = Vector([1])\n",
    "print(vec)\n",
    "# Напечатает \"[1]\" без кавычек"
   ]
  },
  {
   "cell_type": "code",
   "execution_count": 23,
   "id": "0acb1873",
   "metadata": {},
   "outputs": [],
   "source": [
    "class Vector():\n",
    "    \n",
    "    def __init__(self, lst):\n",
    "        self.coords = lst\n",
    "    \n",
    "    def __add__(self, other):\n",
    "        if len(self.coords) != len(other.coords):\n",
    "            raise ValueError(f'left and right lengths differ: ' \n",
    "            f'{len(self.coords)} != {len(other.coords)}')\n",
    "        else:\n",
    "            temp = []\n",
    "            for i in range(len(self.coords)):\n",
    "                temp.append(self.coords[i] + other.coords[i])\n",
    "            return Vector(temp)\n",
    "        \n",
    "    def __str__(self):\n",
    "        return f'{self.coords}'"
   ]
  },
  {
   "cell_type": "code",
   "execution_count": 24,
   "id": "5455fed7",
   "metadata": {},
   "outputs": [
    {
     "name": "stdout",
     "output_type": "stream",
     "text": [
      "[1, 2, 3]\n"
     ]
    }
   ],
   "source": [
    "print(Vector([1, 2, 3]))"
   ]
  },
  {
   "cell_type": "code",
   "execution_count": 25,
   "id": "43096e5d",
   "metadata": {},
   "outputs": [
    {
     "name": "stdout",
     "output_type": "stream",
     "text": [
      "[1]\n"
     ]
    }
   ],
   "source": [
    "vec = Vector([1])\n",
    "print(vec)"
   ]
  },
  {
   "cell_type": "markdown",
   "id": "5e29d633",
   "metadata": {},
   "source": [
    "Задание 10\n",
    "\n",
    "Продолжаем улучшать вектор. Добавьте в класс возможность умножать вектор на вектор и вектор на число. Не забудьте сохранять координаты вектора в self.coords.\n",
    "\n",
    "Vector([1, 2, 3]) * Vector([2, 5, -2])  # даст 6\n",
    "# 1 * 2 + 2 * 5 + 3 * (-2) = 6\n",
    "\n",
    "Vector([1, 2]) * Vector([2, 3, 4])\n",
    "# ValueError: left and right lengths differ: 2 != 3\n",
    "\n",
    "Vector([2, 3, 5, 8]) * 5  # даст Vector([10, 15, 25, 40])\n",
    "\n",
    "Для проверки типов используйте isinstance(object, class)."
   ]
  },
  {
   "cell_type": "code",
   "execution_count": 26,
   "id": "50a79df7",
   "metadata": {},
   "outputs": [],
   "source": [
    "class Vector():\n",
    "    \n",
    "    def __init__(self, lst):\n",
    "        self.coords = lst\n",
    "    \n",
    "    def __add__(self, other):\n",
    "        if len(self.coords) != len(other.coords):\n",
    "            raise ValueError(f'left and right lengths differ: ' \n",
    "            f'{len(self.coords)} != {len(other.coords)}')\n",
    "        else:\n",
    "            temp = []\n",
    "            for i in range(len(self.coords)):\n",
    "                temp.append(self.coords[i] + other.coords[i])\n",
    "            return Vector(temp)\n",
    "    \n",
    "    def __mul__(self, other):\n",
    "        if  not isinstance(other, int) and len(self.coords) != len(other.coords):\n",
    "            raise ValueError(f'left and right lengths differ: ' \n",
    "            f'{len(self.coords)} != {len(other.coords)}')\n",
    "        elif isinstance(other, Vector):\n",
    "            temp = 0\n",
    "            for i in range(len(self.coords)):\n",
    "                temp += self.coords[i] * other.coords[i]\n",
    "            return temp\n",
    "        elif isinstance(other, int):\n",
    "            temp = []\n",
    "            for i in range(len(self.coords)):\n",
    "                temp.append(self.coords[i] * other)\n",
    "            return Vector(temp)\n",
    "        \n",
    "    def __str__(self):\n",
    "        return f'{self.coords}'"
   ]
  },
  {
   "cell_type": "code",
   "execution_count": 27,
   "id": "5b9b0cb1",
   "metadata": {},
   "outputs": [
    {
     "name": "stdout",
     "output_type": "stream",
     "text": [
      "6\n"
     ]
    }
   ],
   "source": [
    "print(Vector([1, 2, 3]) * Vector([2, 5, -2]))"
   ]
  },
  {
   "cell_type": "code",
   "execution_count": 28,
   "id": "4e1ab28e",
   "metadata": {},
   "outputs": [
    {
     "name": "stdout",
     "output_type": "stream",
     "text": [
      "[10, 15, 25, 40]\n"
     ]
    }
   ],
   "source": [
    "print(Vector([2, 3, 5, 8]) * 5)"
   ]
  },
  {
   "cell_type": "code",
   "execution_count": 29,
   "id": "fccb3258",
   "metadata": {},
   "outputs": [
    {
     "ename": "ValueError",
     "evalue": "left and right lengths differ: 2 != 3",
     "output_type": "error",
     "traceback": [
      "\u001b[1;31m---------------------------------------------------------------------------\u001b[0m",
      "\u001b[1;31mValueError\u001b[0m                                Traceback (most recent call last)",
      "\u001b[1;32mC:\\Users\\6A02~1\\AppData\\Local\\Temp/ipykernel_13760/2429907303.py\u001b[0m in \u001b[0;36m<module>\u001b[1;34m\u001b[0m\n\u001b[1;32m----> 1\u001b[1;33m \u001b[0mprint\u001b[0m\u001b[1;33m(\u001b[0m\u001b[0mVector\u001b[0m\u001b[1;33m(\u001b[0m\u001b[1;33m[\u001b[0m\u001b[1;36m1\u001b[0m\u001b[1;33m,\u001b[0m \u001b[1;36m2\u001b[0m\u001b[1;33m]\u001b[0m\u001b[1;33m)\u001b[0m \u001b[1;33m*\u001b[0m \u001b[0mVector\u001b[0m\u001b[1;33m(\u001b[0m\u001b[1;33m[\u001b[0m\u001b[1;36m2\u001b[0m\u001b[1;33m,\u001b[0m \u001b[1;36m3\u001b[0m\u001b[1;33m,\u001b[0m \u001b[1;36m4\u001b[0m\u001b[1;33m]\u001b[0m\u001b[1;33m)\u001b[0m\u001b[1;33m)\u001b[0m\u001b[1;33m\u001b[0m\u001b[1;33m\u001b[0m\u001b[0m\n\u001b[0m",
      "\u001b[1;32mC:\\Users\\6A02~1\\AppData\\Local\\Temp/ipykernel_13760/1848223190.py\u001b[0m in \u001b[0;36m__mul__\u001b[1;34m(self, other)\u001b[0m\n\u001b[0;32m     16\u001b[0m     \u001b[1;32mdef\u001b[0m \u001b[0m__mul__\u001b[0m\u001b[1;33m(\u001b[0m\u001b[0mself\u001b[0m\u001b[1;33m,\u001b[0m \u001b[0mother\u001b[0m\u001b[1;33m)\u001b[0m\u001b[1;33m:\u001b[0m\u001b[1;33m\u001b[0m\u001b[1;33m\u001b[0m\u001b[0m\n\u001b[0;32m     17\u001b[0m         \u001b[1;32mif\u001b[0m  \u001b[1;32mnot\u001b[0m \u001b[0misinstance\u001b[0m\u001b[1;33m(\u001b[0m\u001b[0mother\u001b[0m\u001b[1;33m,\u001b[0m \u001b[0mint\u001b[0m\u001b[1;33m)\u001b[0m \u001b[1;32mand\u001b[0m \u001b[0mlen\u001b[0m\u001b[1;33m(\u001b[0m\u001b[0mself\u001b[0m\u001b[1;33m.\u001b[0m\u001b[0mcoords\u001b[0m\u001b[1;33m)\u001b[0m \u001b[1;33m!=\u001b[0m \u001b[0mlen\u001b[0m\u001b[1;33m(\u001b[0m\u001b[0mother\u001b[0m\u001b[1;33m.\u001b[0m\u001b[0mcoords\u001b[0m\u001b[1;33m)\u001b[0m\u001b[1;33m:\u001b[0m\u001b[1;33m\u001b[0m\u001b[1;33m\u001b[0m\u001b[0m\n\u001b[1;32m---> 18\u001b[1;33m             raise ValueError(f'left and right lengths differ: ' \n\u001b[0m\u001b[0;32m     19\u001b[0m             f'{len(self.coords)} != {len(other.coords)}')\n\u001b[0;32m     20\u001b[0m         \u001b[1;32melif\u001b[0m \u001b[0misinstance\u001b[0m\u001b[1;33m(\u001b[0m\u001b[0mother\u001b[0m\u001b[1;33m,\u001b[0m \u001b[0mVector\u001b[0m\u001b[1;33m)\u001b[0m\u001b[1;33m:\u001b[0m\u001b[1;33m\u001b[0m\u001b[1;33m\u001b[0m\u001b[0m\n",
      "\u001b[1;31mValueError\u001b[0m: left and right lengths differ: 2 != 3"
     ]
    }
   ],
   "source": [
    "print(Vector([1, 2]) * Vector([2, 3, 4]))"
   ]
  },
  {
   "cell_type": "markdown",
   "id": "d3e1e480",
   "metadata": {},
   "source": [
    "Задание 11\n",
    "\n",
    "Последние штрихи для нашего вектора.\n",
    "\n",
    "Добавьте в класс возможности сравнивать два вектора между собой и считать abs (это длина вектора, в Евклидовой метрике).\n",
    "\n",
    "abs(Vector([-12, 5]))  # Должно быть 13\n",
    "\n",
    "Vector([1, 3, 5]) == Vector([1])  # False\n",
    "\n",
    "Vector([1, 3, 5]) == Vector([-1, 3, 5])  # False\n",
    "\n",
    "Vector([1, 3, 5]) == Vector([1, 3, 5])  # True\n",
    "\n",
    "По итогу мы получим вектора, которые можно складывать, умножать, печатать, считать длину и сравнивать на равенство друг с другом."
   ]
  },
  {
   "cell_type": "code",
   "execution_count": 30,
   "id": "23ac4fe2",
   "metadata": {},
   "outputs": [],
   "source": [
    "class Vector():\n",
    "    \n",
    "    def __init__(self, lst):\n",
    "        self.coords = lst\n",
    "    \n",
    "    def __add__(self, other):\n",
    "        if len(self.coords) != len(other.coords):\n",
    "            raise ValueError(f'left and right lengths differ: ' \n",
    "            f'{len(self.coords)} != {len(other.coords)}')\n",
    "        else:\n",
    "            temp = []\n",
    "            for i in range(len(self.coords)):\n",
    "                temp.append(self.coords[i] + other.coords[i])\n",
    "            return Vector(temp)\n",
    "    \n",
    "    def __mul__(self, other):\n",
    "        if  not isinstance(other, int) and len(self.coords) != len(other.coords):\n",
    "            raise ValueError(f'left and right lengths differ: ' \n",
    "            f'{len(self.coords)} != {len(other.coords)}')\n",
    "        elif isinstance(other, Vector):\n",
    "            temp = 0\n",
    "            for i in range(len(self.coords)):\n",
    "                temp += self.coords[i] * other.coords[i]\n",
    "            return temp\n",
    "        elif isinstance(other, int):\n",
    "            temp = []\n",
    "            for i in range(len(self.coords)):\n",
    "                temp.append(self.coords[i] * other)\n",
    "            return Vector(temp)\n",
    "    \n",
    "    def __eq__(self, other):\n",
    "        is_equal = True\n",
    "        if len(self.coords) != len(other.coords):\n",
    "            is_equal = False\n",
    "        else:\n",
    "            for i in range(len(self.coords)):\n",
    "                is_equal *= self.coords[i] == other.coords[i]\n",
    "        return bool(is_equal)\n",
    "    \n",
    "    def __abs__(self):\n",
    "        sum = 0\n",
    "        for i in self.coords:\n",
    "            sum += i ** 2\n",
    "        return sum ** 0.5\n",
    "    \n",
    "    def __str__(self):\n",
    "        return f'{self.coords}'"
   ]
  },
  {
   "cell_type": "code",
   "execution_count": 31,
   "id": "2932f8b8",
   "metadata": {},
   "outputs": [
    {
     "name": "stdout",
     "output_type": "stream",
     "text": [
      "False\n",
      "False\n",
      "True\n"
     ]
    }
   ],
   "source": [
    "print(Vector([1, 3, 5]) == Vector([1]))  # False\n",
    "print(Vector([1, 3, 5]) == Vector([-1, 3, 5]))  # False\n",
    "print(Vector([1, 3, 5]) == Vector([1, 3, 5])) # True"
   ]
  },
  {
   "cell_type": "code",
   "execution_count": 32,
   "id": "351ba24b",
   "metadata": {},
   "outputs": [
    {
     "name": "stdout",
     "output_type": "stream",
     "text": [
      "13.0\n"
     ]
    }
   ],
   "source": [
    "print(abs(Vector([-12, 5]))) # Должно быть 13"
   ]
  },
  {
   "cell_type": "markdown",
   "id": "83e4178a",
   "metadata": {},
   "source": [
    "Задание 12\n",
    "\n",
    "Разным классам в приложении потребуется разная функциональность: кому-то потребуется проверять, есть ли в headers ключ \"Accept\", кому-то потребуется читать body, а кому-то понадобится проверять пустоту cookies. Будут и классы, которым потребуется несколько возможностей сразу.\n",
    "\n",
    "Напишите классы ParsesCookies, ParsesBody, ParsesHeaders по условиям:\n",
    "\n",
    "Класс ParsesCookies имеет метод cookies(), возвращающий все по ключу cookies из словаря self.request.\n",
    "Класс ParsesCookies имеет метод is_authed(), который будет проверять, что в словаре cookies будет ключ auth_key (ни в коем случае не используйте такую авторизацию в реальных проектах).\n",
    "Класс ParsesBody имеет метод body(), возвращающий текст по ключу body в self.request.\n",
    "Класс ParsesHeaders имеет метод headers(), возвращающий все по ключу headers из словаря self.request.\n",
    "Класс ParsesHeaders имеет метод need_json(), который возвращает True, если в headers по ключу \"content-type\" лежит значение \"application/json\", иначе False.\n"
   ]
  },
  {
   "cell_type": "code",
   "execution_count": 11,
   "id": "a7ac0ba2",
   "metadata": {},
   "outputs": [],
   "source": [
    "class ParsesCookies():\n",
    "    \n",
    "    def __init__(self, request):\n",
    "        self.request = request\n",
    "        \n",
    "    def cookies(self):\n",
    "        return self.request[\"cookies\"]\n",
    "    \n",
    "    def is_authed(self):\n",
    "        return (\"auth_key\" in self.request[\"cookies\"].keys())\n",
    "\n",
    "    \n",
    "class ParsesBody():\n",
    "        \n",
    "    def __init__(self, request):\n",
    "        self.request = request\n",
    "        \n",
    "    def body(self):\n",
    "        return self.request[\"body\"]\n",
    "    \n",
    "    \n",
    "class ParsesHeaders():\n",
    "        \n",
    "    def __init__(self, request):\n",
    "        self.request = request\n",
    "        \n",
    "    def headers(self):\n",
    "        return self.request[\"headers\"]\n",
    "    \n",
    "    def need_json(self):\n",
    "        if \"content-type\" in self.request[\"headers\"] and \\\n",
    "        self.request[\"headers\"][\"content-type\"] == \"application/json\":\n",
    "            return True\n",
    "        else:\n",
    "            return False"
   ]
  },
  {
   "cell_type": "code",
   "execution_count": 15,
   "id": "a5957ac9",
   "metadata": {},
   "outputs": [],
   "source": [
    "request = {\n",
    "  \"body\": \"a long time ago, in a Galaxy far, far away\",\n",
    "  \"headers\": {\"content-type\": \"application/json\", \"Accept\": \"application/json\"}\n",
    "}"
   ]
  },
  {
   "cell_type": "code",
   "execution_count": 16,
   "id": "ee10d4f0",
   "metadata": {},
   "outputs": [],
   "source": [
    "ps = ParsesHeaders(request)"
   ]
  },
  {
   "cell_type": "code",
   "execution_count": 17,
   "id": "2ede52e1",
   "metadata": {
    "scrolled": true
   },
   "outputs": [
    {
     "data": {
      "text/plain": [
       "True"
      ]
     },
     "execution_count": 17,
     "metadata": {},
     "output_type": "execute_result"
    }
   ],
   "source": [
    "ps.need_json()"
   ]
  },
  {
   "cell_type": "markdown",
   "id": "5bec1fd9",
   "metadata": {},
   "source": [
    "Задание 13\n",
    "\n",
    "Используя миксины из прошлого пункта, напишите класс JsonHandler, который будет наследоваться от классов ParsesBody и ParsesHeaders , иметь метод process() и конструктор, принимающий аргумент request и сохраняющий в self.request. В этом задании нужно использовать библиотеку json.\n",
    "\n",
    "Метод process() должен работать следующим образом:\n",
    "\n",
    "Если need_json() дает False, то возвращать None\n",
    "Иначе получать тело через body(), пытаться считать его как json.loads(...) и возвращать число ключей в словаре. Если считать не удалось, то вернуть None.\n",
    "Отправьте реализацию класса JsonHandler в LMS. Классы ParsesBody и ParsesHeaders отправлять не нужно.\n",
    "\n",
    "Обратите внимание, что с помощью миксин функциональность проверки headers и получения body была вынесена за JsonHandler - наш класс сосредоточился именно на обработке.\n",
    "\n",
    "# Пример использования\n",
    "r = {'body': '{\"a\": 123, \"b\": 1234}',\n",
    "     'headers': {'content-type': 'application/json'}\n",
    "    }\n",
    "print(JsonHandler(r).process())"
   ]
  },
  {
   "cell_type": "code",
   "execution_count": 18,
   "id": "f4389e02",
   "metadata": {},
   "outputs": [],
   "source": [
    "class JsonHandler(ParsesBody, ParsesHeaders):\n",
    "    \n",
    "    pass"
   ]
  },
  {
   "cell_type": "code",
   "execution_count": 19,
   "id": "343034a6",
   "metadata": {},
   "outputs": [],
   "source": [
    "js = JsonHandler(request)"
   ]
  },
  {
   "cell_type": "code",
   "execution_count": 21,
   "id": "ccdc7774",
   "metadata": {},
   "outputs": [
    {
     "data": {
      "text/plain": [
       "'a long time ago, in a Galaxy far, far away'"
      ]
     },
     "execution_count": 21,
     "metadata": {},
     "output_type": "execute_result"
    }
   ],
   "source": [
    "js.body()"
   ]
  },
  {
   "cell_type": "code",
   "execution_count": 22,
   "id": "3ef73e91",
   "metadata": {},
   "outputs": [
    {
     "data": {
      "text/plain": [
       "{'content-type': 'application/json', 'Accept': 'application/json'}"
      ]
     },
     "execution_count": 22,
     "metadata": {},
     "output_type": "execute_result"
    }
   ],
   "source": [
    "js.headers()"
   ]
  },
  {
   "cell_type": "code",
   "execution_count": 23,
   "id": "e896e279",
   "metadata": {},
   "outputs": [
    {
     "data": {
      "text/plain": [
       "True"
      ]
     },
     "execution_count": 23,
     "metadata": {},
     "output_type": "execute_result"
    }
   ],
   "source": [
    "js.need_json()"
   ]
  },
  {
   "cell_type": "code",
   "execution_count": 24,
   "id": "3814d569",
   "metadata": {},
   "outputs": [
    {
     "data": {
      "text/plain": [
       "{'body': 'a long time ago, in a Galaxy far, far away',\n",
       " 'headers': {'content-type': 'application/json', 'Accept': 'application/json'}}"
      ]
     },
     "execution_count": 24,
     "metadata": {},
     "output_type": "execute_result"
    }
   ],
   "source": [
    "js.request"
   ]
  },
  {
   "cell_type": "code",
   "execution_count": 53,
   "id": "1ed1b792",
   "metadata": {},
   "outputs": [],
   "source": [
    "class JsonHandler(ParsesBody, ParsesHeaders):\n",
    "    def __init__(self, request):\n",
    "        self.request = request\n",
    "    \n",
    "    def process(self):\n",
    "        if not self.need_json():\n",
    "            return None\n",
    "        else:\n",
    "            try:\n",
    "                from json import loads\n",
    "                return len(loads(str(self.body())))\n",
    "            except:\n",
    "                return None"
   ]
  },
  {
   "cell_type": "code",
   "execution_count": 54,
   "id": "696bfb6b",
   "metadata": {},
   "outputs": [
    {
     "name": "stdout",
     "output_type": "stream",
     "text": [
      "2\n"
     ]
    }
   ],
   "source": [
    "r = {'body': '{\"a\": 123, \"b\": 1234}',\n",
    "     'headers': {'content-type': 'application/json'}\n",
    "    }\n",
    "\n",
    "print(JsonHandler(r).process())"
   ]
  },
  {
   "cell_type": "markdown",
   "id": "90797210",
   "metadata": {},
   "source": [
    "Задание 14\n",
    "\n",
    "Используя миксины из прошлого пункта, напишите класс SecureTextHandler, который будет наследоваться от классов ParsesBody, ParsesHeaders и ParsesCookies , иметь метод process() и конструктор, принимающий один аргумент и сохраняющий его в нужное поле класса.\n",
    "\n",
    "Метод process() должен работать следующим образом:\n",
    "\n",
    "Если is_authed() дает False, то возвращать None.\n",
    "Иначе получать тело через body() и возвращать его длину.\n",
    "Добейтесь работоспособности на примере и реализацию класса SecureTextHandler отправьте в LMS. Классы ParsesBody и ParsesHeaders, ParsesCookie отправлять не нужно."
   ]
  },
  {
   "cell_type": "code",
   "execution_count": 100,
   "id": "00450e1a",
   "metadata": {},
   "outputs": [],
   "source": [
    "class SecureTextHandler(ParsesBody, ParsesHeaders, ParsesCookies):\n",
    "    \n",
    "    def __init__(self, request):\n",
    "        self.request = request\n",
    "    \n",
    "    def process(self):\n",
    "        if self.is_authed() == False:\n",
    "            return None\n",
    "        else:\n",
    "            try:\n",
    "                from json import loads\n",
    "                if isinstance(self.body(), dict):\n",
    "                    return len(loads(str(self.body())))\n",
    "                elif isinstance(self.body(), str):\n",
    "                    return len(self.body())\n",
    "            except:\n",
    "                return None"
   ]
  },
  {
   "cell_type": "code",
   "execution_count": 101,
   "id": "9268d432",
   "metadata": {},
   "outputs": [
    {
     "name": "stdout",
     "output_type": "stream",
     "text": [
      "5\n"
     ]
    }
   ],
   "source": [
    "r = {'cookies': {'auth_key': '123'},\n",
    "     'body': 'hello'\n",
    "    }\n",
    "print(SecureTextHandler(r).process())"
   ]
  },
  {
   "cell_type": "code",
   "execution_count": 102,
   "id": "a1e6adb2",
   "metadata": {},
   "outputs": [
    {
     "data": {
      "text/plain": [
       "True"
      ]
     },
     "execution_count": 102,
     "metadata": {},
     "output_type": "execute_result"
    }
   ],
   "source": [
    "SecureTextHandler(r).is_authed()"
   ]
  },
  {
   "cell_type": "code",
   "execution_count": 103,
   "id": "6597231c",
   "metadata": {},
   "outputs": [
    {
     "data": {
      "text/plain": [
       "'hello'"
      ]
     },
     "execution_count": 103,
     "metadata": {},
     "output_type": "execute_result"
    }
   ],
   "source": [
    "SecureTextHandler(r).body()"
   ]
  },
  {
   "cell_type": "code",
   "execution_count": 104,
   "id": "82d743c4",
   "metadata": {},
   "outputs": [],
   "source": [
    "from json import loads"
   ]
  },
  {
   "cell_type": "code",
   "execution_count": 106,
   "id": "97816aa3",
   "metadata": {},
   "outputs": [
    {
     "name": "stdout",
     "output_type": "stream",
     "text": [
      "None\n"
     ]
    }
   ],
   "source": [
    "r = {'cookies': {},\n",
    "     'body': 'hello'\n",
    "    }\n",
    "print(SecureTextHandler(r).process())\n",
    "# None"
   ]
  }
 ],
 "metadata": {
  "kernelspec": {
   "display_name": "Python 3 (ipykernel)",
   "language": "python",
   "name": "python3"
  },
  "language_info": {
   "codemirror_mode": {
    "name": "ipython",
    "version": 3
   },
   "file_extension": ".py",
   "mimetype": "text/x-python",
   "name": "python",
   "nbconvert_exporter": "python",
   "pygments_lexer": "ipython3",
   "version": "3.9.7"
  }
 },
 "nbformat": 4,
 "nbformat_minor": 5
}
